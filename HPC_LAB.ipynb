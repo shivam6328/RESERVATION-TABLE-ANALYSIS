{
 "cells": [
  {
   "cell_type": "code",
   "execution_count": 2,
   "metadata": {},
   "outputs": [],
   "source": [
    "import pandas as pd\n"
   ]
  },
  {
   "cell_type": "code",
   "execution_count": 3,
   "metadata": {},
   "outputs": [],
   "source": [
    "x=pd.read_csv('Downloads/reservation.csv')"
   ]
  },
  {
   "cell_type": "code",
   "execution_count": 4,
   "metadata": {},
   "outputs": [
    {
     "data": {
      "text/html": [
       "<div>\n",
       "<style scoped>\n",
       "    .dataframe tbody tr th:only-of-type {\n",
       "        vertical-align: middle;\n",
       "    }\n",
       "\n",
       "    .dataframe tbody tr th {\n",
       "        vertical-align: top;\n",
       "    }\n",
       "\n",
       "    .dataframe thead th {\n",
       "        text-align: right;\n",
       "    }\n",
       "</style>\n",
       "<table border=\"1\" class=\"dataframe\">\n",
       "  <thead>\n",
       "    <tr style=\"text-align: right;\">\n",
       "      <th></th>\n",
       "      <th>1</th>\n",
       "      <th>2</th>\n",
       "      <th>3</th>\n",
       "      <th>4</th>\n",
       "      <th>5</th>\n",
       "    </tr>\n",
       "  </thead>\n",
       "  <tbody>\n",
       "    <tr>\n",
       "      <th>0</th>\n",
       "      <td>x</td>\n",
       "      <td>-</td>\n",
       "      <td>-</td>\n",
       "      <td>-</td>\n",
       "      <td>x</td>\n",
       "    </tr>\n",
       "    <tr>\n",
       "      <th>1</th>\n",
       "      <td>-</td>\n",
       "      <td>-</td>\n",
       "      <td>x</td>\n",
       "      <td>-</td>\n",
       "      <td>-</td>\n",
       "    </tr>\n",
       "    <tr>\n",
       "      <th>2</th>\n",
       "      <td>-</td>\n",
       "      <td>-</td>\n",
       "      <td>x</td>\n",
       "      <td>-</td>\n",
       "      <td>x</td>\n",
       "    </tr>\n",
       "    <tr>\n",
       "      <th>3</th>\n",
       "      <td>-</td>\n",
       "      <td>x</td>\n",
       "      <td>-</td>\n",
       "      <td>x</td>\n",
       "      <td>-</td>\n",
       "    </tr>\n",
       "  </tbody>\n",
       "</table>\n",
       "</div>"
      ],
      "text/plain": [
       "   1  2  3  4  5\n",
       "0  x  -  -  -  x\n",
       "1  -  -  x  -  -\n",
       "2  -  -  x  -  x\n",
       "3  -  x  -  x  -"
      ]
     },
     "execution_count": 4,
     "metadata": {},
     "output_type": "execute_result"
    }
   ],
   "source": [
    "x"
   ]
  },
  {
   "cell_type": "code",
   "execution_count": 5,
   "metadata": {},
   "outputs": [
    {
     "name": "stdout",
     "output_type": "stream",
     "text": [
      "2\n"
     ]
    }
   ],
   "source": [
    "a=['1','2','3','4','5']\n",
    "maxtemp=0\n",
    "for i in range(0,4):\n",
    "    temp=0\n",
    "    for j in a:\n",
    "        if (x.loc[i,j]=='x'):\n",
    "            temp+=1;\n",
    "    if (temp>maxtemp):\n",
    "        maxtemp=temp\n",
    "print maxtemp\n",
    "        \n",
    "            "
   ]
  },
  {
   "cell_type": "code",
   "execution_count": 10,
   "metadata": {},
   "outputs": [
    {
     "name": "stdout",
     "output_type": "stream",
     "text": [
      "[2, 4]\n"
     ]
    }
   ],
   "source": [
    "#a=['1','2','3','4','5']\n",
    "#maxtemp=0\n",
    "l=[]\n",
    "for i in range(0,4):\n",
    "    temp=-1\n",
    "    for j in a:\n",
    "        if (x.loc[i,j]=='x' and temp==-1):\n",
    "            temp=j;\n",
    "        elif (x.loc[i,j]=='x' and temp!=-1):\n",
    "            temp=int(j)-int(temp)\n",
    "            if (temp not in l):\n",
    "                l.append(temp)\n",
    "l.sort()\n",
    "print l\n",
    "            "
   ]
  },
  {
   "cell_type": "code",
   "execution_count": 43,
   "metadata": {},
   "outputs": [
    {
     "data": {
      "text/plain": [
       "'1010'"
      ]
     },
     "execution_count": 43,
     "metadata": {},
     "output_type": "execute_result"
    }
   ],
   "source": [
    "size=l[-1]\n",
    "collision_vect=[0]*size\n",
    "for i in l:\n",
    "    collision_vect[-i]=1\n",
    "coll_vect=\"\"    \n",
    "for i in collision_vect:\n",
    "    coll_vect+=str(i)\n",
    "#coll_vect=int(coll_vect)\n",
    "coll_vect"
   ]
  },
  {
   "cell_type": "code",
   "execution_count": 112,
   "metadata": {},
   "outputs": [
    {
     "data": {
      "text/plain": [
       "{'1010': ['1011', 3, '1111', 1], '1011': ['1011', 3], '1111': []}"
      ]
     },
     "execution_count": 112,
     "metadata": {},
     "output_type": "execute_result"
    }
   ],
   "source": [
    "test=int(coll_vect,2)\n",
    "states=[test]\n",
    "tempp=0\n",
    "final=[]\n",
    "while 1:\n",
    "    varlen=len(states)\n",
    "    if (tempp==varlen):\n",
    "        break\n",
    "    else:\n",
    "        tempfinal=[]\n",
    "        tempb=bin(states[tempp])[2:]\n",
    "        #print tempb\n",
    "        for xf in range(0,len(tempb)):\n",
    "            if tempb[xf]=='0':\n",
    "                #print xf\n",
    "                trtr=((states[tempp]>>(len(tempb)-xf)) | test)\n",
    "                #print trtr,\"here\"\n",
    "                tempfinal.append(trtr)\n",
    "                tempfinal.append(len(tempb)-xf)\n",
    "                if (trtr not in states):    \n",
    "                    states.append(trtr)\n",
    "        final.append(tempfinal)\n",
    "        tempp+=1\n",
    "        #print \"tempp is \",tempp\n",
    "for i in range(0,len(states)):\n",
    "    states[i]=bin(states[i])[2:]\n",
    "        \n",
    "#print final\n",
    "new_final=[]\n",
    "for k in final:\n",
    "    tempnew_final=[]\n",
    "    for i in range(0,len(k)):\n",
    "        if (i%2==0):\n",
    "            tata=k[i]\n",
    "            #print tata\n",
    "            tempnew_final.append(bin(tata)[2:])\n",
    "        else:\n",
    "            tempnew_final.append(k[i])\n",
    "    new_final.append(tempnew_final)\n",
    "#print \"final graph is \",new_final\n",
    "my_dict={}\n",
    "for i in range(0,len(states)):\n",
    "    my_dict[states[i]]=new_final[i]\n",
    "    \n",
    "my_dict"
   ]
  }
 ],
 "metadata": {
  "kernelspec": {
   "display_name": "Python 2",
   "language": "python",
   "name": "python2"
  },
  "language_info": {
   "codemirror_mode": {
    "name": "ipython",
    "version": 2
   },
   "file_extension": ".py",
   "mimetype": "text/x-python",
   "name": "python",
   "nbconvert_exporter": "python",
   "pygments_lexer": "ipython2",
   "version": "2.7.15+"
  }
 },
 "nbformat": 4,
 "nbformat_minor": 2
}
